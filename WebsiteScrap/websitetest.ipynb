{
 "cells": [
  {
   "cell_type": "code",
   "execution_count": 1,
   "id": "a09bcddc",
   "metadata": {},
   "outputs": [],
   "source": [
    "import requests\n",
    "url = \"https://www.amazon.com/Amazon-Basics-Everyday-Plates-Disposable/dp/B0C2CY22B8/?_encoding=UTF8&pd_rd_w=APjaP&content-id=amzn1.sym.f2128ffe-3407-4a64-95b5-696504f68ca1&pf_rd_p=f2128ffe-3407-4a64-95b5-696504f68ca1&pf_rd_r=YXMEXN435CNCQZWD512A&pd_rd_wg=7Izqy&pd_rd_r=3fbb0d02-8f22-4b11-ac45-f11f9ef282d6&ref_=pd_hp_d_btf_crs_zg_bs_284507&th=1\"\n",
    "response = requests.get(url)\n"
   ]
  },
  {
   "cell_type": "code",
   "execution_count": 2,
   "id": "cb785afb",
   "metadata": {},
   "outputs": [],
   "source": [
    "from bs4 import BeautifulSoup\n",
    "soup = BeautifulSoup(response.text, 'html.parser')"
   ]
  },
  {
   "cell_type": "code",
   "execution_count": 3,
   "id": "87bde02d",
   "metadata": {},
   "outputs": [],
   "source": [
    "div_with_data_hook = soup.find_all('div', attrs={'data-hook': 'review-collapsed'})"
   ]
  },
  {
   "cell_type": "code",
   "execution_count": 4,
   "id": "32814573",
   "metadata": {},
   "outputs": [
    {
     "data": {
      "text/plain": [
       "[\"\\nThese came on time with my other items. They are durable, leak proof, hold a decent serving size, and great for any occasion. The coloring is neutral, if it matters to you. Great price for that quantity. I'll definitely keep buying them here.\\n\",\n",
       " '\\nWe go through lots of paper plates at my house.  These are of great quality and have saved me a lot of time and money by putting them on a subscribe and save option.  I love that they are eco-friendly and they are the perfect size for any meal.  All you mammas out there - gift yourself some time from washing those extra dishes and go play with those kiddos!\\n',\n",
       " '\\n✅ Durability & Performance:- Thicker than expected, handling heavy meals without bending.- Solid grease resistance, keeping hands clean even with saucy dishes.- Perfect size for everyday use, not too small or flimsy.✅ Real-World Usage:- “I grabbed these for quick meals and BBQs, and they’ve held up great. No frustrating leaks or flimsy folds—just solid plates that do their job!”✅ Pros & Cons:- Pros: Sturdy, grease-resistant, great for casual meals and gatherings.- Cons: Not as rigid as premium brands, but for the price, they’re a solid pick.✅ Final Verdict:- “For affordable, reliable disposable plates, these get the job done. Great for quick meals, parties, or when you just don’t want to do dishes!”\\n',\n",
       " '\\nI’ve been using these Amazon Basics paper plates for several months now, and they’ve become a regular part of my household routine. For the price point and 100-count package, they offer solid value that’s honestly comparable to name-brand alternatives I’ve tried.The 8.62-inch size is perfect for what I use them for - light snacks, quick sandwiches, chips, and easy weekday meals. They’re particularly great when you want something convenient without the cleanup. I also appreciate the summer pattern design, which adds a bit of fun compared to plain white plates.That said, I want to be upfront about their limitations. These are definitely on the flimsier side compared to some other brands. They work fine for toddler meals and light foods, but I wouldn’t rely on them for anything heavy or saucy. If you’re planning a special occasion or serving hearty meals, you’ll want to invest in something sturdier. The thickness is adequate for daily light use, but don’t expect premium durability.Despite being slightly thin, they do hold up reasonably well for their intended purpose. I haven’t had issues with them falling apart during normal use with sandwiches, snacks, or simple meals. They’re sturdy enough for what they’re designed for - quick, convenient dining.I continue purchasing these specifically because of their size and value proposition. For everyday light use and convenience, they hit the mark. Just set your expectations appropriately - these are for casual, light meals, not heavy-duty dining or special events.\\u200b\\u200b\\u200b\\u200b\\u200b\\u200b\\u200b\\u200b\\u200b\\u200b\\u200b\\u200b\\u200b\\u200b\\u200b\\u200b\\n',\n",
       " '\\nGreat heavy duty paper plates. Was able to support chicken, salads and fruit without leaking\\n',\n",
       " '\\nI really love these plates. I have them on subscription and get a pack in every month. They are a good size and pretty sturdy. We love not having to wash so many dishes. We are a family of 3. Also they are a good price!\\n',\n",
       " \"\\nGreat price for a great product. I work full-time and the kids hate doing dishes. These are great for midnight snacks when you don't want to pile up fhe sink with dishes. Grease doesn't seep through and they are strong.\\n\",\n",
       " '\\nGreat paper plates at a great price. I ordered the bigger ones too. They are sturdy and inexpensive and perfect for when you have a lot of people over. I highly recommend them\\n']"
      ]
     },
     "execution_count": 4,
     "metadata": {},
     "output_type": "execute_result"
    }
   ],
   "source": [
    "data = []\n",
    "for div in div_with_data_hook:\n",
    "  data.append(div.get_text())\n",
    "\n",
    "data"
   ]
  },
  {
   "cell_type": "code",
   "execution_count": 5,
   "id": "9a6eb540",
   "metadata": {},
   "outputs": [],
   "source": [
    "import pandas as pd\n",
    "\n",
    "hasmap = {\n",
    "    \"reviews\":data\n",
    "}\n"
   ]
  },
  {
   "cell_type": "code",
   "execution_count": 6,
   "id": "cfb829d9",
   "metadata": {},
   "outputs": [],
   "source": [
    "df = pd.DataFrame(hasmap)"
   ]
  },
  {
   "cell_type": "code",
   "execution_count": 7,
   "id": "9f29469a",
   "metadata": {},
   "outputs": [],
   "source": [
    "import requests\n",
    "import pandas as pd\n",
    "class WebsiteScrapper:\n",
    "  def __init__(self,url):\n",
    "    self.url = url\n",
    "  \n",
    "  def  websitename(self,url):\n",
    "    x = self.url.split('/')\n",
    "    return x[3].replace('-','')\n",
    "\n",
    "  def scraping(self,url):\n",
    "    response = requests.get(url)\n",
    "    name = self.websitename(url)\n",
    "    soup = BeautifulSoup(response.text, 'html.parser')\n",
    "    div_with_data_hook = soup.find_all('div', attrs={'data-hook': 'review-collapsed'})\n",
    "    data = []\n",
    "    for div in div_with_data_hook:\n",
    "      data.append(div.get_text())\n",
    "    if data == []:\n",
    "      return f\"The Following Link is not scrappable\"\n",
    "    else:\n",
    "      hasmap = {\n",
    "          name:data\n",
    "      }\n",
    "      df = pd.DataFrame(hasmap)\n",
    "      return df\n",
    "test1 = WebsiteScrapper(\"https://www.amazon.com/iPhone-Charger-Anker-AirPods-Included/dp/B0C8HHV9DK/?_encoding=UTF8&pd_rd_w=Zizz0&content-id=amzn1.sym.f2128ffe-3407-4a64-95b5-696504f68ca1&pf_rd_p=f2128ffe-3407-4a64-95b5-696504f68ca1&pf_rd_r=JTNG8GHDS8903AADTJ34&pd_rd_wg=PWDJB&pd_rd_r=a257b401-3d62-4bd7-a869-76767d49f2b0&ref_=pd_hp_d_btf_crs_zg_bs_541966&th=1\")\n",
    "test2 = WebsiteScrapper(\"https://www.amazon.com/Charger-charging-Certified-lightning-AirPods/dp/B0B283QP2N/?_encoding=UTF8&pd_rd_w=xI3Mi&content-id=amzn1.sym.117cb3e1-fd12-46a0-bb16-15cd49babfdb%3Aamzn1.symc.abfa8731-fff2-4177-9d31-bf48857c2263&pf_rd_p=117cb3e1-fd12-46a0-bb16-15cd49babfdb&pf_rd_r=1A0Y3SCKF61QZME5WKSB&pd_rd_wg=ZWwxr&pd_rd_r=ae81b6c3-d9bd-471e-908b-d82eca3bdbf3&ref_=pd_hp_d_btf_ci_mcx_mr_ca_id_hp_d\")\n",
    "test3 = WebsiteScrapper(\"https://www.amazon.com/Amazon-Basics-Everyday-Plates-Disposable/dp/B0C2CY22B8/?_encoding=UTF8&pd_rd_w=APjaP&content-id=amzn1.sym.f2128ffe-3407-4a64-95b5-696504f68ca1&pf_rd_p=f2128ffe-3407-4a64-95b5-696504f68ca1&pf_rd_r=YXMEXN435CNCQZWD512A&pd_rd_wg=7Izqy&pd_rd_r=3fbb0d02-8f22-4b11-ac45-f11f9ef282d6&ref_=pd_hp_d_btf_crs_zg_bs_284507&th=1\")\n",
    "df1 = test1.scraping(test1.url)\n",
    "df2 = test2.scraping(test2.url)\n",
    "df3 = test3.scraping(test3.url)\n"
   ]
  },
  {
   "cell_type": "code",
   "execution_count": 8,
   "id": "b8458f1c",
   "metadata": {},
   "outputs": [
    {
     "data": {
      "text/plain": [
       "'iPhoneChargerAnkerAirPodsIncluded'"
      ]
     },
     "execution_count": 8,
     "metadata": {},
     "output_type": "execute_result"
    }
   ],
   "source": [
    "url = \"https://www.amazon.com/iPhone-Charger-Anker-AirPods-Included/dp/B0C8HHV9DK/?_encoding=UTF8&pd_rd_w=Zizz0&content-id=amzn1.sym.f2128ffe-3407-4a64-95b5-696504f68ca1&pf_rd_p=f2128ffe-3407-4a64-95b5-696504f68ca1&pf_rd_r=JTNG8GHDS8903AADTJ34&pd_rd_wg=PWDJB&pd_rd_r=a257b401-3d62-4bd7-a869-76767d49f2b0&ref_=pd_hp_d_btf_crs_zg_bs_541966&th=1\"\n",
    "x = url.split('/')\n",
    "x[3].replace('-','')"
   ]
  },
  {
   "cell_type": "code",
   "execution_count": null,
   "id": "f595a7d6",
   "metadata": {},
   "outputs": [],
   "source": []
  }
 ],
 "metadata": {
  "kernelspec": {
   "display_name": "Python 3",
   "language": "python",
   "name": "python3"
  },
  "language_info": {
   "codemirror_mode": {
    "name": "ipython",
    "version": 3
   },
   "file_extension": ".py",
   "mimetype": "text/x-python",
   "name": "python",
   "nbconvert_exporter": "python",
   "pygments_lexer": "ipython3",
   "version": "3.10.18"
  }
 },
 "nbformat": 4,
 "nbformat_minor": 5
}
