{
 "cells": [
  {
   "cell_type": "code",
   "execution_count": 28,
   "id": "5f7d3beb-0503-41e2-8502-e0f9070159de",
   "metadata": {},
   "outputs": [],
   "source": [
    "import pandas as pd\n",
    "import numpy as np"
   ]
  },
  {
   "cell_type": "code",
   "execution_count": 29,
   "id": "72104eee-3bcd-47d5-b03c-c95383c7cb19",
   "metadata": {},
   "outputs": [
    {
     "data": {
      "text/html": [
       "<div>\n",
       "<style scoped>\n",
       "    .dataframe tbody tr th:only-of-type {\n",
       "        vertical-align: middle;\n",
       "    }\n",
       "\n",
       "    .dataframe tbody tr th {\n",
       "        vertical-align: top;\n",
       "    }\n",
       "\n",
       "    .dataframe thead th {\n",
       "        text-align: right;\n",
       "    }\n",
       "</style>\n",
       "<table border=\"1\" class=\"dataframe\">\n",
       "  <thead>\n",
       "    <tr style=\"text-align: right;\">\n",
       "      <th></th>\n",
       "      <th>Pageurl</th>\n",
       "      <th>Title</th>\n",
       "      <th>Review Text</th>\n",
       "      <th>Review Color</th>\n",
       "      <th>User Verified</th>\n",
       "      <th>Review Date</th>\n",
       "      <th>Review Useful Count</th>\n",
       "      <th>Configuration Text</th>\n",
       "      <th>Rating</th>\n",
       "      <th>Declaration Text</th>\n",
       "    </tr>\n",
       "  </thead>\n",
       "  <tbody>\n",
       "    <tr>\n",
       "      <th>0</th>\n",
       "      <td>https://www.amazon.com/All-New-Amazon-Echo-Dot...</td>\n",
       "      <td>Three Stars</td>\n",
       "      <td>Not great speakers</td>\n",
       "      <td>Black</td>\n",
       "      <td>Verified Purchase</td>\n",
       "      <td>10/3/2017</td>\n",
       "      <td>NaN</td>\n",
       "      <td>Echo Dot</td>\n",
       "      <td>3</td>\n",
       "      <td>NaN</td>\n",
       "    </tr>\n",
       "    <tr>\n",
       "      <th>1</th>\n",
       "      <td>https://www.amazon.com/All-New-Amazon-Echo-Dot...</td>\n",
       "      <td>Four Stars</td>\n",
       "      <td>Great little gagit</td>\n",
       "      <td>White</td>\n",
       "      <td>Verified Purchase</td>\n",
       "      <td>9/26/2017</td>\n",
       "      <td>NaN</td>\n",
       "      <td>Echo Dot</td>\n",
       "      <td>4</td>\n",
       "      <td>NaN</td>\n",
       "    </tr>\n",
       "    <tr>\n",
       "      <th>2</th>\n",
       "      <td>https://www.amazon.com/All-New-Amazon-Echo-Dot...</td>\n",
       "      <td>Awesome!</td>\n",
       "      <td>Awesome 👏🏽</td>\n",
       "      <td>White</td>\n",
       "      <td>Verified Purchase</td>\n",
       "      <td>9/8/2017</td>\n",
       "      <td>NaN</td>\n",
       "      <td>Echo Dot</td>\n",
       "      <td>5</td>\n",
       "      <td>NaN</td>\n",
       "    </tr>\n",
       "    <tr>\n",
       "      <th>3</th>\n",
       "      <td>https://www.amazon.com/All-New-Amazon-Echo-Dot...</td>\n",
       "      <td>Five Stars</td>\n",
       "      <td>Love my Echo</td>\n",
       "      <td>Black</td>\n",
       "      <td>Verified Purchase</td>\n",
       "      <td>10/19/2017</td>\n",
       "      <td>NaN</td>\n",
       "      <td>Echo Dot</td>\n",
       "      <td>5</td>\n",
       "      <td>NaN</td>\n",
       "    </tr>\n",
       "    <tr>\n",
       "      <th>4</th>\n",
       "      <td>https://www.amazon.com/All-New-Amazon-Echo-Dot...</td>\n",
       "      <td>Five Stars</td>\n",
       "      <td>Great device</td>\n",
       "      <td>Black</td>\n",
       "      <td>Verified Purchase</td>\n",
       "      <td>9/17/2017</td>\n",
       "      <td>NaN</td>\n",
       "      <td>Echo Dot</td>\n",
       "      <td>5</td>\n",
       "      <td>NaN</td>\n",
       "    </tr>\n",
       "  </tbody>\n",
       "</table>\n",
       "</div>"
      ],
      "text/plain": [
       "                                             Pageurl        Title  \\\n",
       "0  https://www.amazon.com/All-New-Amazon-Echo-Dot...  Three Stars   \n",
       "1  https://www.amazon.com/All-New-Amazon-Echo-Dot...   Four Stars   \n",
       "2  https://www.amazon.com/All-New-Amazon-Echo-Dot...     Awesome!   \n",
       "3  https://www.amazon.com/All-New-Amazon-Echo-Dot...   Five Stars   \n",
       "4  https://www.amazon.com/All-New-Amazon-Echo-Dot...   Five Stars   \n",
       "\n",
       "          Review Text Review Color      User Verified Review Date  \\\n",
       "0  Not great speakers        Black  Verified Purchase   10/3/2017   \n",
       "1  Great little gagit        White  Verified Purchase   9/26/2017   \n",
       "2          Awesome 👏🏽        White  Verified Purchase    9/8/2017   \n",
       "3        Love my Echo        Black  Verified Purchase  10/19/2017   \n",
       "4        Great device        Black  Verified Purchase   9/17/2017   \n",
       "\n",
       "   Review Useful Count Configuration Text  Rating Declaration Text  \n",
       "0                  NaN           Echo Dot       3              NaN  \n",
       "1                  NaN           Echo Dot       4              NaN  \n",
       "2                  NaN           Echo Dot       5              NaN  \n",
       "3                  NaN           Echo Dot       5              NaN  \n",
       "4                  NaN           Echo Dot       5              NaN  "
      ]
     },
     "execution_count": 29,
     "metadata": {},
     "output_type": "execute_result"
    }
   ],
   "source": [
    "df = pd.read_csv('Amazon Echo 2 Reviews.csv')\n",
    "df.head()"
   ]
  },
  {
   "cell_type": "code",
   "execution_count": 30,
   "id": "ce15d523-ad7d-43d1-a970-6975c95b7c95",
   "metadata": {},
   "outputs": [
    {
     "data": {
      "text/plain": [
       "'Awesome product! However, it does take time for Alexa to recognize other language when asked to play Spanish music and after a while she’ll turn off by it self.'"
      ]
     },
     "execution_count": 30,
     "metadata": {},
     "output_type": "execute_result"
    }
   ],
   "source": [
    "corpus = df['Review Text']\n",
    "corpus[6]"
   ]
  },
  {
   "cell_type": "code",
   "execution_count": 99,
   "id": "69e8962e-ab1a-42f8-9add-2a235cd4b255",
   "metadata": {},
   "outputs": [],
   "source": [
    "import nltk\n",
    "from nltk.stem import PorterStemmer\n",
    "from nltk.corpus import stopwords\n",
    "from nltk.tokenize import sent_tokenize, word_tokenize\n",
    "sentence = nltk.sent_tokenize(corpus[6]) #------> Convert into Sentence"
   ]
  },
  {
   "cell_type": "code",
   "execution_count": 100,
   "id": "9c9aa8fb-af88-4287-aec6-ddc2a23f8ba6",
   "metadata": {},
   "outputs": [],
   "source": [
    "words=nltk.word_tokenize(corpus[6]) #------> Convert into Words"
   ]
  },
  {
   "cell_type": "code",
   "execution_count": 123,
   "id": "852aa7a8-ad47-493a-8dac-f17742330781",
   "metadata": {},
   "outputs": [
    {
     "data": {
      "text/plain": [
       "'think'"
      ]
     },
     "execution_count": 123,
     "metadata": {},
     "output_type": "execute_result"
    }
   ],
   "source": [
    "stemmer= PorterStemmer()\n",
    "stemmer.stem('thinking')"
   ]
  },
  {
   "cell_type": "code",
   "execution_count": 34,
   "id": "f90c1501-633e-4c44-bbc7-c0ab17be2311",
   "metadata": {},
   "outputs": [
    {
     "data": {
      "text/plain": [
       "'drink'"
      ]
     },
     "execution_count": 34,
     "metadata": {},
     "output_type": "execute_result"
    }
   ],
   "source": [
    "from nltk.stem import WordNetLemmatizer\n",
    "lemmatizer=WordNetLemmatizer()\n",
    "lemmatizer.lemmatize('drinking',pos='v') #---> Verb"
   ]
  },
  {
   "cell_type": "code",
   "execution_count": 170,
   "id": "64ea2946-3cfb-4570-ab0b-fc3989b1cac9",
   "metadata": {},
   "outputs": [],
   "source": [
    "#------> REMOVE THE SPECIAL CHARACTERS\n",
    "import re #----> Regular Expression\n",
    "corpusList = []\n",
    "for i in sentence:\n",
    "    review = re.sub('[^a-zA-Z]',' ',i)\n",
    "    review=review.lower()\n",
    "    corpusList.append(review)"
   ]
  },
  {
   "cell_type": "code",
   "execution_count": 171,
   "id": "35025581-986a-4b54-8791-4e24edfb7526",
   "metadata": {},
   "outputs": [
    {
     "data": {
      "text/plain": [
       "['awesome product ',\n",
       " 'however  it does take time for alexa to recognize other language when asked to play spanish music and after a while she ll turn off by it self ']"
      ]
     },
     "execution_count": 171,
     "metadata": {},
     "output_type": "execute_result"
    }
   ],
   "source": [
    "corpusList"
   ]
  },
  {
   "cell_type": "code",
   "execution_count": 135,
   "id": "cfe4d91c-ac60-4469-9447-6608be1ebb52",
   "metadata": {},
   "outputs": [
    {
     "data": {
      "text/plain": [
       "['awesom',\n",
       " 'product',\n",
       " 'howev',\n",
       " 'take',\n",
       " 'time',\n",
       " 'alexa',\n",
       " 'recogn',\n",
       " 'languag',\n",
       " 'ask',\n",
       " 'play',\n",
       " 'spanish',\n",
       " 'music',\n",
       " 'turn',\n",
       " 'self']"
      ]
     },
     "execution_count": 135,
     "metadata": {},
     "output_type": "execute_result"
    }
   ],
   "source": [
    "stemmedwords=[]\n",
    "for i in corpusList:\n",
    "    words = nltk.word_tokenize(i)\n",
    "    for word in words:\n",
    "        if word not in set(stopwords.words('english')):\n",
    "            word = stemmer.stem(word)\n",
    "            stemmedwords.append(word)\n",
    "stemmedwords"
   ]
  },
  {
   "cell_type": "code",
   "execution_count": 137,
   "id": "2b82524e-9ee3-41b4-ae5e-a898013b0209",
   "metadata": {},
   "outputs": [
    {
     "data": {
      "text/plain": [
       "['awesom',\n",
       " 'product',\n",
       " 'howev',\n",
       " 'take',\n",
       " 'time',\n",
       " 'alexa',\n",
       " 'recogn',\n",
       " 'languag',\n",
       " 'ask',\n",
       " 'play',\n",
       " 'spanish',\n",
       " 'music',\n",
       " 'turn',\n",
       " 'self']"
      ]
     },
     "execution_count": 137,
     "metadata": {},
     "output_type": "execute_result"
    }
   ],
   "source": [
    "lemmawords=[]\n",
    "for i in corpusList:\n",
    "    words = nltk.word_tokenize(i)\n",
    "    for word in words:\n",
    "        if word not in set(stopwords.words('english')):\n",
    "            lemmatizer.lemmatize(word,pos='v')\n",
    "            lemmawords.append(word)\n",
    "stemmedwords"
   ]
  },
  {
   "cell_type": "markdown",
   "id": "a38e51c3-8b76-434c-9abb-1516f7cdb7fb",
   "metadata": {},
   "source": [
    "### Bag Of Words"
   ]
  },
  {
   "cell_type": "code",
   "execution_count": 158,
   "id": "673e3642-2735-47fc-b95e-1233f1105e4a",
   "metadata": {},
   "outputs": [
    {
     "data": {
      "text/plain": [
       "'awesome product '"
      ]
     },
     "execution_count": 158,
     "metadata": {},
     "output_type": "execute_result"
    }
   ],
   "source": [
    "from sklearn.feature_extraction.text import CountVectorizer\n",
    "cv = CountVectorizer()\n",
    "# cv = CountVectorizer(binary=True)\n",
    "corpusList[0]"
   ]
  },
  {
   "cell_type": "code",
   "execution_count": 161,
   "id": "79484918-ed87-4723-8cfd-7b4a6eba04f2",
   "metadata": {},
   "outputs": [
    {
     "data": {
      "text/plain": [
       "array([[0, 0, 0, 0, 1, 0, 0, 0, 0, 0, 0, 0, 0, 0, 0, 0, 1, 0, 0, 0, 0, 0,\n",
       "        0, 0, 0, 0, 0]])"
      ]
     },
     "execution_count": 161,
     "metadata": {},
     "output_type": "execute_result"
    }
   ],
   "source": [
    "X=cv.fit_transform(corpusList)\n",
    "X[0].toarray() ###----> AWESOME PRODUCT"
   ]
  },
  {
   "cell_type": "code",
   "execution_count": 162,
   "id": "9a5ac40c-cb62-46c5-9a25-113815c40f1b",
   "metadata": {},
   "outputs": [
    {
     "data": {
      "text/plain": [
       "array([[1, 1, 1, 1, 0, 1, 1, 1, 1, 2, 1, 1, 1, 1, 1, 1, 0, 1, 1, 1, 1, 1,\n",
       "        1, 2, 1, 1, 1]])"
      ]
     },
     "execution_count": 162,
     "metadata": {},
     "output_type": "execute_result"
    }
   ],
   "source": [
    "X[1].toarray() ### ---> corpusList[1]"
   ]
  },
  {
   "cell_type": "code",
   "execution_count": 157,
   "id": "4e82bcbb-76a4-459a-afeb-3199de9c7de7",
   "metadata": {},
   "outputs": [
    {
     "data": {
      "text/plain": [
       "{'awesome': 4,\n",
       " 'product': 16,\n",
       " 'however': 8,\n",
       " 'it': 9,\n",
       " 'does': 6,\n",
       " 'take': 21,\n",
       " 'time': 22,\n",
       " 'for': 7,\n",
       " 'alexa': 1,\n",
       " 'to': 23,\n",
       " 'recognize': 17,\n",
       " 'other': 14,\n",
       " 'language': 10,\n",
       " 'when': 25,\n",
       " 'asked': 3,\n",
       " 'play': 15,\n",
       " 'spanish': 20,\n",
       " 'music': 12,\n",
       " 'and': 2,\n",
       " 'after': 0,\n",
       " 'while': 26,\n",
       " 'she': 19,\n",
       " 'll': 11,\n",
       " 'turn': 24,\n",
       " 'off': 13,\n",
       " 'by': 5,\n",
       " 'self': 18}"
      ]
     },
     "execution_count": 157,
     "metadata": {},
     "output_type": "execute_result"
    }
   ],
   "source": [
    "cv.vocabulary_"
   ]
  },
  {
   "cell_type": "code",
   "execution_count": 185,
   "id": "72690ee7-4f53-473e-bb7e-01769bfc861b",
   "metadata": {},
   "outputs": [
    {
     "data": {
      "text/plain": [
       "['awesome product',\n",
       " 'however take time alexa recognize language asked play spanish music turn self']"
      ]
     },
     "execution_count": 185,
     "metadata": {},
     "output_type": "execute_result"
    }
   ],
   "source": [
    "corpuslist = corpusList\n",
    "corpus = []\n",
    "for i in corpuslist:\n",
    "    review = re.sub('[^a-zA-Z]',' ',i)\n",
    "    review=review.lower()\n",
    "    review=review.split()\n",
    "    review = [lemmatizer.lemmatize(word) for word in review if not word in set(stopwords.words('english'))]\n",
    "    review= ' '.join(review)\n",
    "    corpus.append(review)\n",
    "\n",
    "corpus"
   ]
  },
  {
   "cell_type": "code",
   "execution_count": 194,
   "id": "d0297b3c-46c1-4942-a09f-6e43f9a7443b",
   "metadata": {},
   "outputs": [
    {
     "data": {
      "text/plain": [
       "array([[0, 0, 1, 0, 0, 0, 0, 1, 0, 0, 0, 0, 0, 0]])"
      ]
     },
     "execution_count": 194,
     "metadata": {},
     "output_type": "execute_result"
    }
   ],
   "source": [
    "from sklearn.feature_extraction.text import CountVectorizer\n",
    "cv = CountVectorizer()\n",
    "# cv = CountVectorizer(binary=True)\n",
    "X=cv.fit_transform(corpus)\n",
    "X[0].toarray() ###----> AWESOME PRODUCT"
   ]
  },
  {
   "cell_type": "code",
   "execution_count": 195,
   "id": "381ec45d-9b44-46f2-bd9f-80d63f7fd1f2",
   "metadata": {},
   "outputs": [
    {
     "data": {
      "text/plain": [
       "{'awesome': 2,\n",
       " 'product': 7,\n",
       " 'however': 3,\n",
       " 'take': 11,\n",
       " 'time': 12,\n",
       " 'alexa': 0,\n",
       " 'recognize': 8,\n",
       " 'language': 4,\n",
       " 'asked': 1,\n",
       " 'play': 6,\n",
       " 'spanish': 10,\n",
       " 'music': 5,\n",
       " 'turn': 13,\n",
       " 'self': 9}"
      ]
     },
     "execution_count": 195,
     "metadata": {},
     "output_type": "execute_result"
    }
   ],
   "source": [
    "cv.vocabulary_"
   ]
  },
  {
   "cell_type": "code",
   "execution_count": 207,
   "id": "112a10e6-43c2-4975-a0c8-40a65692c40d",
   "metadata": {},
   "outputs": [
    {
     "data": {
      "text/plain": [
       "array([[0, 0, 0, 0, 0, 0, 0, 0, 0, 0]])"
      ]
     },
     "execution_count": 207,
     "metadata": {},
     "output_type": "execute_result"
    }
   ],
   "source": [
    "from sklearn.feature_extraction.text import CountVectorizer\n",
    "cv = CountVectorizer(ngram_range=(3,3)) #------> Trigram, Can not make trigram for x[0]\n",
    "# cv = CountVectorizer(binary=True)\n",
    "X=cv.fit_transform(corpus)\n",
    "X[0].toarray() ###----> AWESOME PRODUCT #"
   ]
  },
  {
   "cell_type": "code",
   "execution_count": 206,
   "id": "f8f49159-b9b0-4d63-83bb-df0173e1e95b",
   "metadata": {},
   "outputs": [
    {
     "data": {
      "text/plain": [
       "{'however take time': 2,\n",
       " 'take time alexa': 8,\n",
       " 'time alexa recognize': 9,\n",
       " 'alexa recognize language': 0,\n",
       " 'recognize language asked': 6,\n",
       " 'language asked play': 3,\n",
       " 'asked play spanish': 1,\n",
       " 'play spanish music': 5,\n",
       " 'spanish music turn': 7,\n",
       " 'music turn self': 4}"
      ]
     },
     "execution_count": 206,
     "metadata": {},
     "output_type": "execute_result"
    }
   ],
   "source": [
    "cv.vocabulary_"
   ]
  },
  {
   "cell_type": "code",
   "execution_count": 208,
   "id": "8208924c-edc8-45cd-a76a-972824a0bfe2",
   "metadata": {},
   "outputs": [
    {
     "data": {
      "text/plain": [
       "array([[0, 0, 0, 0, 1, 0, 0, 0, 0, 0, 0, 0, 0, 0, 0, 0, 0, 0, 0, 0, 0, 0]])"
      ]
     },
     "execution_count": 208,
     "metadata": {},
     "output_type": "execute_result"
    }
   ],
   "source": [
    "from sklearn.feature_extraction.text import CountVectorizer\n",
    "cv = CountVectorizer(ngram_range=(2,3)) #------> Bigram\n",
    "# cv = CountVectorizer(binary=True)\n",
    "X=cv.fit_transform(corpus)\n",
    "X[0].toarray() ###----> AWESOME PRODUCT #"
   ]
  },
  {
   "cell_type": "code",
   "execution_count": 209,
   "id": "ea0fb663-529e-4490-919a-66041657227a",
   "metadata": {},
   "outputs": [
    {
     "data": {
      "text/plain": [
       "{'awesome product': 4,\n",
       " 'however take': 5,\n",
       " 'take time': 17,\n",
       " 'time alexa': 19,\n",
       " 'alexa recognize': 0,\n",
       " 'recognize language': 13,\n",
       " 'language asked': 7,\n",
       " 'asked play': 2,\n",
       " 'play spanish': 11,\n",
       " 'spanish music': 15,\n",
       " 'music turn': 9,\n",
       " 'turn self': 21,\n",
       " 'however take time': 6,\n",
       " 'take time alexa': 18,\n",
       " 'time alexa recognize': 20,\n",
       " 'alexa recognize language': 1,\n",
       " 'recognize language asked': 14,\n",
       " 'language asked play': 8,\n",
       " 'asked play spanish': 3,\n",
       " 'play spanish music': 12,\n",
       " 'spanish music turn': 16,\n",
       " 'music turn self': 10}"
      ]
     },
     "execution_count": 209,
     "metadata": {},
     "output_type": "execute_result"
    }
   ],
   "source": [
    "cv.vocabulary_"
   ]
  },
  {
   "cell_type": "markdown",
   "id": "a9787a11-50e0-46f0-a2c3-78885e46d13d",
   "metadata": {},
   "source": [
    "## --------------------------------------------------------\n",
    "# TFIDF"
   ]
  },
  {
   "cell_type": "code",
   "execution_count": 210,
   "id": "a85c6315-224a-421b-9939-0b754d5ee711",
   "metadata": {},
   "outputs": [],
   "source": [
    "from sklearn.feature_extraction.text import TfidfVectorizer\n",
    "cv = TfidfVectorizer() #ngram_range also there\n",
    "X=cv.fit_transform(corpus)"
   ]
  },
  {
   "cell_type": "code",
   "execution_count": 215,
   "id": "9a4a6630-f5ab-452e-a1fe-07bcc2284377",
   "metadata": {},
   "outputs": [
    {
     "data": {
      "text/plain": [
       "'however take time alexa recognize language asked play spanish music turn self'"
      ]
     },
     "execution_count": 215,
     "metadata": {},
     "output_type": "execute_result"
    }
   ],
   "source": [
    "corpus[1]"
   ]
  },
  {
   "cell_type": "code",
   "execution_count": 216,
   "id": "71f41ff6-d891-4949-9421-9675a2b3363c",
   "metadata": {},
   "outputs": [
    {
     "data": {
      "text/plain": [
       "array([[0.28867513, 0.28867513, 0.        , 0.28867513, 0.28867513,\n",
       "        0.28867513, 0.28867513, 0.        , 0.28867513, 0.28867513,\n",
       "        0.28867513, 0.28867513, 0.28867513, 0.28867513]])"
      ]
     },
     "execution_count": 216,
     "metadata": {},
     "output_type": "execute_result"
    }
   ],
   "source": [
    "X[1].toarray()"
   ]
  },
  {
   "cell_type": "code",
   "execution_count": null,
   "id": "45e26d5f-3884-4eef-ad61-b5aeb74ad7ac",
   "metadata": {},
   "outputs": [],
   "source": []
  }
 ],
 "metadata": {
  "kernelspec": {
   "display_name": "Python 3 (ipykernel)",
   "language": "python",
   "name": "python3"
  },
  "language_info": {
   "codemirror_mode": {
    "name": "ipython",
    "version": 3
   },
   "file_extension": ".py",
   "mimetype": "text/x-python",
   "name": "python",
   "nbconvert_exporter": "python",
   "pygments_lexer": "ipython3",
   "version": "3.13.1"
  }
 },
 "nbformat": 4,
 "nbformat_minor": 5
}
