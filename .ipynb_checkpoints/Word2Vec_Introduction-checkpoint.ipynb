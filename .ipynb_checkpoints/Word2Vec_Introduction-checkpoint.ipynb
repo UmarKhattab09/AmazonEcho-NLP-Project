{
  "nbformat": 4,
  "nbformat_minor": 0,
  "metadata": {
    "colab": {
      "provenance": [],
      "authorship_tag": "ABX9TyNW4I81SRgBCMEVl+N1lHFj",
      "include_colab_link": true
    },
    "kernelspec": {
      "name": "python3",
      "display_name": "Python 3"
    },
    "language_info": {
      "name": "python"
    }
  },
  "cells": [
    {
      "cell_type": "markdown",
      "metadata": {
        "id": "view-in-github",
        "colab_type": "text"
      },
      "source": [
        "<a href=\"https://colab.research.google.com/github/UmarKhattab09/AmazonEcho-NLP-Project/blob/main/Word2Vec_Introduction.ipynb\" target=\"_parent\"><img src=\"https://colab.research.google.com/assets/colab-badge.svg\" alt=\"Open In Colab\"/></a>"
      ]
    },
    {
      "cell_type": "code",
      "execution_count": 1,
      "metadata": {
        "colab": {
          "base_uri": "https://localhost:8080/"
        },
        "id": "LSX31edafwmq",
        "outputId": "65071105-b185-4061-c140-e4b8b8f1ded8"
      },
      "outputs": [
        {
          "output_type": "stream",
          "name": "stdout",
          "text": [
            "Requirement already satisfied: gensim in /usr/local/lib/python3.11/dist-packages (4.3.3)\n",
            "Requirement already satisfied: numpy<2.0,>=1.18.5 in /usr/local/lib/python3.11/dist-packages (from gensim) (1.26.4)\n",
            "Requirement already satisfied: scipy<1.14.0,>=1.7.0 in /usr/local/lib/python3.11/dist-packages (from gensim) (1.13.1)\n",
            "Requirement already satisfied: smart-open>=1.8.1 in /usr/local/lib/python3.11/dist-packages (from gensim) (7.1.0)\n",
            "Requirement already satisfied: wrapt in /usr/local/lib/python3.11/dist-packages (from smart-open>=1.8.1->gensim) (1.17.2)\n"
          ]
        }
      ],
      "source": [
        "!pip install gensim"
      ]
    },
    {
      "cell_type": "code",
      "source": [
        "import gensim.downloader as api\n",
        "wv = api.load('word2vec-google-news-300')\n"
      ],
      "metadata": {
        "colab": {
          "base_uri": "https://localhost:8080/"
        },
        "id": "4ixA8PIygFOQ",
        "outputId": "641f99f0-e325-432a-f5f0-79fb9e035fd9"
      },
      "execution_count": 2,
      "outputs": [
        {
          "output_type": "stream",
          "name": "stdout",
          "text": [
            "[==================================================] 100.0% 1662.8/1662.8MB downloaded\n"
          ]
        }
      ]
    },
    {
      "cell_type": "code",
      "source": [
        "vec_king = wv['king']\n",
        "vec_king"
      ],
      "metadata": {
        "colab": {
          "base_uri": "https://localhost:8080/"
        },
        "id": "kjX2CN2dfzD0",
        "outputId": "8287a9d1-9682-4bf0-8729-9438dc5d357e"
      },
      "execution_count": 3,
      "outputs": [
        {
          "output_type": "execute_result",
          "data": {
            "text/plain": [
              "array([ 1.25976562e-01,  2.97851562e-02,  8.60595703e-03,  1.39648438e-01,\n",
              "       -2.56347656e-02, -3.61328125e-02,  1.11816406e-01, -1.98242188e-01,\n",
              "        5.12695312e-02,  3.63281250e-01, -2.42187500e-01, -3.02734375e-01,\n",
              "       -1.77734375e-01, -2.49023438e-02, -1.67968750e-01, -1.69921875e-01,\n",
              "        3.46679688e-02,  5.21850586e-03,  4.63867188e-02,  1.28906250e-01,\n",
              "        1.36718750e-01,  1.12792969e-01,  5.95703125e-02,  1.36718750e-01,\n",
              "        1.01074219e-01, -1.76757812e-01, -2.51953125e-01,  5.98144531e-02,\n",
              "        3.41796875e-01, -3.11279297e-02,  1.04492188e-01,  6.17675781e-02,\n",
              "        1.24511719e-01,  4.00390625e-01, -3.22265625e-01,  8.39843750e-02,\n",
              "        3.90625000e-02,  5.85937500e-03,  7.03125000e-02,  1.72851562e-01,\n",
              "        1.38671875e-01, -2.31445312e-01,  2.83203125e-01,  1.42578125e-01,\n",
              "        3.41796875e-01, -2.39257812e-02, -1.09863281e-01,  3.32031250e-02,\n",
              "       -5.46875000e-02,  1.53198242e-02, -1.62109375e-01,  1.58203125e-01,\n",
              "       -2.59765625e-01,  2.01416016e-02, -1.63085938e-01,  1.35803223e-03,\n",
              "       -1.44531250e-01, -5.68847656e-02,  4.29687500e-02, -2.46582031e-02,\n",
              "        1.85546875e-01,  4.47265625e-01,  9.58251953e-03,  1.31835938e-01,\n",
              "        9.86328125e-02, -1.85546875e-01, -1.00097656e-01, -1.33789062e-01,\n",
              "       -1.25000000e-01,  2.83203125e-01,  1.23046875e-01,  5.32226562e-02,\n",
              "       -1.77734375e-01,  8.59375000e-02, -2.18505859e-02,  2.05078125e-02,\n",
              "       -1.39648438e-01,  2.51464844e-02,  1.38671875e-01, -1.05468750e-01,\n",
              "        1.38671875e-01,  8.88671875e-02, -7.51953125e-02, -2.13623047e-02,\n",
              "        1.72851562e-01,  4.63867188e-02, -2.65625000e-01,  8.91113281e-03,\n",
              "        1.49414062e-01,  3.78417969e-02,  2.38281250e-01, -1.24511719e-01,\n",
              "       -2.17773438e-01, -1.81640625e-01,  2.97851562e-02,  5.71289062e-02,\n",
              "       -2.89306641e-02,  1.24511719e-02,  9.66796875e-02, -2.31445312e-01,\n",
              "        5.81054688e-02,  6.68945312e-02,  7.08007812e-02, -3.08593750e-01,\n",
              "       -2.14843750e-01,  1.45507812e-01, -4.27734375e-01, -9.39941406e-03,\n",
              "        1.54296875e-01, -7.66601562e-02,  2.89062500e-01,  2.77343750e-01,\n",
              "       -4.86373901e-04, -1.36718750e-01,  3.24218750e-01, -2.46093750e-01,\n",
              "       -3.03649902e-03, -2.11914062e-01,  1.25000000e-01,  2.69531250e-01,\n",
              "        2.04101562e-01,  8.25195312e-02, -2.01171875e-01, -1.60156250e-01,\n",
              "       -3.78417969e-02, -1.20117188e-01,  1.15234375e-01, -4.10156250e-02,\n",
              "       -3.95507812e-02, -8.98437500e-02,  6.34765625e-03,  2.03125000e-01,\n",
              "        1.86523438e-01,  2.73437500e-01,  6.29882812e-02,  1.41601562e-01,\n",
              "       -9.81445312e-02,  1.38671875e-01,  1.82617188e-01,  1.73828125e-01,\n",
              "        1.73828125e-01, -2.37304688e-01,  1.78710938e-01,  6.34765625e-02,\n",
              "        2.36328125e-01, -2.08984375e-01,  8.74023438e-02, -1.66015625e-01,\n",
              "       -7.91015625e-02,  2.43164062e-01, -8.88671875e-02,  1.26953125e-01,\n",
              "       -2.16796875e-01, -1.73828125e-01, -3.59375000e-01, -8.25195312e-02,\n",
              "       -6.49414062e-02,  5.07812500e-02,  1.35742188e-01, -7.47070312e-02,\n",
              "       -1.64062500e-01,  1.15356445e-02,  4.45312500e-01, -2.15820312e-01,\n",
              "       -1.11328125e-01, -1.92382812e-01,  1.70898438e-01, -1.25000000e-01,\n",
              "        2.65502930e-03,  1.92382812e-01, -1.74804688e-01,  1.39648438e-01,\n",
              "        2.92968750e-01,  1.13281250e-01,  5.95703125e-02, -6.39648438e-02,\n",
              "        9.96093750e-02, -2.72216797e-02,  1.96533203e-02,  4.27246094e-02,\n",
              "       -2.46093750e-01,  6.39648438e-02, -2.25585938e-01, -1.68945312e-01,\n",
              "        2.89916992e-03,  8.20312500e-02,  3.41796875e-01,  4.32128906e-02,\n",
              "        1.32812500e-01,  1.42578125e-01,  7.61718750e-02,  5.98144531e-02,\n",
              "       -1.19140625e-01,  2.74658203e-03, -6.29882812e-02, -2.72216797e-02,\n",
              "       -4.82177734e-03, -8.20312500e-02, -2.49023438e-02, -4.00390625e-01,\n",
              "       -1.06933594e-01,  4.24804688e-02,  7.76367188e-02, -1.16699219e-01,\n",
              "        7.37304688e-02, -9.22851562e-02,  1.07910156e-01,  1.58203125e-01,\n",
              "        4.24804688e-02,  1.26953125e-01,  3.61328125e-02,  2.67578125e-01,\n",
              "       -1.01074219e-01, -3.02734375e-01, -5.76171875e-02,  5.05371094e-02,\n",
              "        5.26428223e-04, -2.07031250e-01, -1.38671875e-01, -8.97216797e-03,\n",
              "       -2.78320312e-02, -1.41601562e-01,  2.07031250e-01, -1.58203125e-01,\n",
              "        1.27929688e-01,  1.49414062e-01, -2.24609375e-02, -8.44726562e-02,\n",
              "        1.22558594e-01,  2.15820312e-01, -2.13867188e-01, -3.12500000e-01,\n",
              "       -3.73046875e-01,  4.08935547e-03,  1.07421875e-01,  1.06933594e-01,\n",
              "        7.32421875e-02,  8.97216797e-03, -3.88183594e-02, -1.29882812e-01,\n",
              "        1.49414062e-01, -2.14843750e-01, -1.83868408e-03,  9.91210938e-02,\n",
              "        1.57226562e-01, -1.14257812e-01, -2.05078125e-01,  9.91210938e-02,\n",
              "        3.69140625e-01, -1.97265625e-01,  3.54003906e-02,  1.09375000e-01,\n",
              "        1.31835938e-01,  1.66992188e-01,  2.35351562e-01,  1.04980469e-01,\n",
              "       -4.96093750e-01, -1.64062500e-01, -1.56250000e-01, -5.22460938e-02,\n",
              "        1.03027344e-01,  2.43164062e-01, -1.88476562e-01,  5.07812500e-02,\n",
              "       -9.37500000e-02, -6.68945312e-02,  2.27050781e-02,  7.61718750e-02,\n",
              "        2.89062500e-01,  3.10546875e-01, -5.37109375e-02,  2.28515625e-01,\n",
              "        2.51464844e-02,  6.78710938e-02, -1.21093750e-01, -2.15820312e-01,\n",
              "       -2.73437500e-01, -3.07617188e-02, -3.37890625e-01,  1.53320312e-01,\n",
              "        2.33398438e-01, -2.08007812e-01,  3.73046875e-01,  8.20312500e-02,\n",
              "        2.51953125e-01, -7.61718750e-02, -4.66308594e-02, -2.23388672e-02,\n",
              "        2.99072266e-02, -5.93261719e-02, -4.66918945e-03, -2.44140625e-01,\n",
              "       -2.09960938e-01, -2.87109375e-01, -4.54101562e-02, -1.77734375e-01,\n",
              "       -2.79296875e-01, -8.59375000e-02,  9.13085938e-02,  2.51953125e-01],\n",
              "      dtype=float32)"
            ]
          },
          "metadata": {},
          "execution_count": 3
        }
      ]
    },
    {
      "cell_type": "code",
      "source": [
        "wv['main']"
      ],
      "metadata": {
        "colab": {
          "base_uri": "https://localhost:8080/"
        },
        "id": "AJugL3gLhXuC",
        "outputId": "74dce235-9442-4d68-a1ef-933ab1ec7de2"
      },
      "execution_count": 4,
      "outputs": [
        {
          "output_type": "execute_result",
          "data": {
            "text/plain": [
              "array([-0.1640625 , -0.06835938,  0.16796875, -0.04589844, -0.0456543 ,\n",
              "       -0.08740234,  0.0189209 ,  0.03295898, -0.02172852,  0.17578125,\n",
              "        0.18164062,  0.06689453,  0.24023438,  0.20117188, -0.14257812,\n",
              "       -0.1953125 ,  0.06054688, -0.20898438,  0.03686523, -0.12402344,\n",
              "        0.02429199,  0.1015625 , -0.18261719,  0.36132812, -0.09765625,\n",
              "       -0.13476562, -0.04931641,  0.14648438,  0.17480469, -0.09716797,\n",
              "       -0.0546875 , -0.18652344,  0.23925781, -0.04638672, -0.04174805,\n",
              "       -0.078125  , -0.30273438,  0.17675781, -0.03369141, -0.16796875,\n",
              "        0.04980469, -0.07421875,  0.17773438,  0.0625    , -0.02001953,\n",
              "        0.07470703, -0.01708984, -0.03320312, -0.03686523, -0.02832031,\n",
              "        0.02893066,  0.1328125 , -0.06445312, -0.08105469, -0.08447266,\n",
              "       -0.00151062, -0.20800781, -0.04858398,  0.21875   ,  0.07128906,\n",
              "       -0.06689453,  0.30664062,  0.09033203,  0.01190186,  0.17871094,\n",
              "       -0.12890625, -0.078125  , -0.01635742, -0.07128906,  0.07324219,\n",
              "       -0.06445312,  0.16601562,  0.40429688,  0.02600098, -0.35546875,\n",
              "        0.03222656,  0.09082031,  0.09375   , -0.0703125 ,  0.02355957,\n",
              "        0.08496094, -0.09277344,  0.09960938,  0.09521484, -0.14160156,\n",
              "       -0.09619141, -0.15332031, -0.04101562, -0.15039062,  0.04003906,\n",
              "        0.01843262, -0.22753906, -0.08007812, -0.12988281, -0.13671875,\n",
              "       -0.1328125 ,  0.05004883, -0.1015625 , -0.30078125,  0.24121094,\n",
              "       -0.11328125,  0.05078125,  0.11962891, -0.16796875, -0.09179688,\n",
              "        0.26953125, -0.00601196, -0.01647949,  0.22070312,  0.09472656,\n",
              "       -0.10400391, -0.2578125 ,  0.02001953, -0.03979492,  0.10839844,\n",
              "        0.01080322,  0.02941895, -0.17089844,  0.35351562,  0.02575684,\n",
              "       -0.15234375,  0.02575684, -0.10009766,  0.0088501 , -0.09863281,\n",
              "       -0.0133667 , -0.11572266, -0.13964844, -0.07421875,  0.11523438,\n",
              "       -0.05712891, -0.17675781,  0.09814453, -0.0859375 ,  0.11230469,\n",
              "       -0.28320312,  0.08447266, -0.30273438,  0.03540039, -0.04467773,\n",
              "        0.11572266, -0.04907227,  0.38085938, -0.07373047,  0.04394531,\n",
              "       -0.05712891, -0.08642578,  0.03637695, -0.15820312,  0.04516602,\n",
              "       -0.25585938,  0.06445312,  0.09179688,  0.1640625 , -0.09033203,\n",
              "        0.09570312, -0.03125   , -0.18164062, -0.09423828, -0.11035156,\n",
              "       -0.14550781,  0.04956055, -0.05371094, -0.0222168 ,  0.19921875,\n",
              "       -0.00558472,  0.28710938,  0.0123291 ,  0.01647949,  0.08740234,\n",
              "       -0.22265625, -0.09521484,  0.24316406,  0.03979492, -0.00177002,\n",
              "        0.01464844,  0.04492188, -0.19726562, -0.18652344,  0.01153564,\n",
              "       -0.13085938, -0.2265625 , -0.05493164,  0.08251953,  0.04223633,\n",
              "        0.22363281,  0.02856445,  0.10107422,  0.19238281,  0.08300781,\n",
              "       -0.11816406,  0.0390625 , -0.01495361,  0.16210938,  0.07519531,\n",
              "       -0.07714844, -0.15625   ,  0.01708984, -0.08544922, -0.11523438,\n",
              "        0.31835938,  0.16308594, -0.07519531, -0.17285156,  0.15625   ,\n",
              "        0.078125  ,  0.11083984,  0.15917969,  0.21289062,  0.02514648,\n",
              "       -0.14453125,  0.09375   ,  0.07958984,  0.15917969,  0.046875  ,\n",
              "       -0.08789062,  0.06640625, -0.22363281,  0.05126953,  0.13964844,\n",
              "       -0.05102539, -0.0703125 ,  0.17578125,  0.00311279,  0.00072861,\n",
              "       -0.00964355,  0.02258301,  0.06640625,  0.05102539,  0.15625   ,\n",
              "       -0.20996094,  0.00421143,  0.01074219,  0.30859375, -0.03735352,\n",
              "       -0.10058594,  0.1953125 , -0.07666016, -0.17675781, -0.00714111,\n",
              "       -0.03015137,  0.09082031, -0.1953125 , -0.15234375,  0.00196838,\n",
              "       -0.07519531,  0.08886719,  0.10400391,  0.015625  ,  0.02758789,\n",
              "       -0.01538086,  0.03515625,  0.19335938, -0.1953125 ,  0.15332031,\n",
              "       -0.03881836, -0.04516602,  0.14648438, -0.1953125 ,  0.09472656,\n",
              "       -0.00701904, -0.3125    , -0.00933838,  0.140625  ,  0.00668335,\n",
              "        0.16015625,  0.04321289, -0.10058594,  0.05151367,  0.21875   ,\n",
              "       -0.12890625, -0.21777344, -0.11523438, -0.29882812,  0.09716797,\n",
              "       -0.01293945, -0.20410156, -0.34765625, -0.28515625, -0.02539062,\n",
              "       -0.13574219,  0.03100586, -0.09179688,  0.01916504, -0.06982422,\n",
              "        0.22363281, -0.29882812,  0.13671875, -0.04248047, -0.06591797,\n",
              "       -0.15917969, -0.01312256,  0.07763672, -0.08398438, -0.06201172,\n",
              "       -0.00059128, -0.00174713, -0.11083984,  0.07470703, -0.04272461],\n",
              "      dtype=float32)"
            ]
          },
          "metadata": {},
          "execution_count": 4
        }
      ]
    },
    {
      "cell_type": "code",
      "source": [
        "wv.most_similar('man')"
      ],
      "metadata": {
        "colab": {
          "base_uri": "https://localhost:8080/"
        },
        "id": "BmKemp5rhh-u",
        "outputId": "21f06963-4b12-4bd2-f1e0-f731b2d90690"
      },
      "execution_count": 5,
      "outputs": [
        {
          "output_type": "execute_result",
          "data": {
            "text/plain": [
              "[('woman', 0.7664012908935547),\n",
              " ('boy', 0.6824871301651001),\n",
              " ('teenager', 0.6586930155754089),\n",
              " ('teenage_girl', 0.6147903203964233),\n",
              " ('girl', 0.5921714305877686),\n",
              " ('suspected_purse_snatcher', 0.571636438369751),\n",
              " ('robber', 0.5585119128227234),\n",
              " ('Robbery_suspect', 0.5584409832954407),\n",
              " ('teen_ager', 0.5549196600914001),\n",
              " ('men', 0.5489763021469116)]"
            ]
          },
          "metadata": {},
          "execution_count": 5
        }
      ]
    },
    {
      "cell_type": "code",
      "source": [
        "wv.most_similar('king')"
      ],
      "metadata": {
        "colab": {
          "base_uri": "https://localhost:8080/"
        },
        "id": "8Fc5Nrnthln_",
        "outputId": "242f26d0-d95b-4b53-a748-bdd4c4d9ffb3"
      },
      "execution_count": 8,
      "outputs": [
        {
          "output_type": "execute_result",
          "data": {
            "text/plain": [
              "[('kings', 0.7138045430183411),\n",
              " ('queen', 0.6510956883430481),\n",
              " ('monarch', 0.6413194537162781),\n",
              " ('crown_prince', 0.6204220056533813),\n",
              " ('prince', 0.6159993410110474),\n",
              " ('sultan', 0.5864824056625366),\n",
              " ('ruler', 0.5797567367553711),\n",
              " ('princes', 0.5646552443504333),\n",
              " ('Prince_Paras', 0.5432944297790527),\n",
              " ('throne', 0.5422105193138123)]"
            ]
          },
          "metadata": {},
          "execution_count": 8
        }
      ]
    },
    {
      "cell_type": "code",
      "source": [
        "wv.similarity('html','programmer')"
      ],
      "metadata": {
        "colab": {
          "base_uri": "https://localhost:8080/"
        },
        "id": "9ElRw4rohq5J",
        "outputId": "49a6718d-9ee1-4dfe-ffb1-31270aa0fb3e"
      },
      "execution_count": 10,
      "outputs": [
        {
          "output_type": "execute_result",
          "data": {
            "text/plain": [
              "0.25811526"
            ]
          },
          "metadata": {},
          "execution_count": 10
        }
      ]
    },
    {
      "cell_type": "code",
      "source": [
        "#### WORDCLOUD\n",
        "import os\n",
        "from os import path\n",
        "from wordcloud import WordCloud\n",
        "text = \"\"\" lorem lorem lorem lorem  ipsum  \"\"\"\n",
        "wordcloud = WordCloud().generate(text)\n",
        "import matplotlib.pyplot as plt\n"
      ],
      "metadata": {
        "id": "krsJLCiHh1u-"
      },
      "execution_count": 17,
      "outputs": []
    },
    {
      "cell_type": "code",
      "source": [
        "wordcloud = WordCloud(max_font_size=40).generate(text)\n",
        "plt.figure()\n",
        "plt.imshow(wordcloud, interpolation=\"bilinear\")\n",
        "plt.axis(\"off\")\n",
        "plt.show()"
      ],
      "metadata": {
        "colab": {
          "base_uri": "https://localhost:8080/",
          "height": 285
        },
        "id": "1g2hM-y7jCSc",
        "outputId": "4c792882-46e2-42a3-d29c-54fc72934a7a"
      },
      "execution_count": 18,
      "outputs": [
        {
          "output_type": "display_data",
          "data": {
            "text/plain": [
              "<Figure size 640x480 with 1 Axes>"
            ],
            "image/png": "[encoded data removed]"
          },
          "metadata": {}
        }
      ]
    }
  ]
}